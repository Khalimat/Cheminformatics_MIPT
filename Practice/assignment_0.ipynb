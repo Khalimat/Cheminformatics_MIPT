{
 "cells": [
  {
   "cell_type": "markdown",
   "metadata": {},
   "source": [
    "# 1. Basics, Database managment, 5 points"
   ]
  },
  {
   "cell_type": "markdown",
   "metadata": {},
   "source": [
    "There is a file with the name 'chem_id_pubmed.txt' in the folder with PubChem CIDs. Please, find a way to automatically download SMILES, Fingerprint2D, and MolecularFormula for these molecules. It must be a py-script written according to  PEP-8 with comments. So, it takes as an input argument file-name and returns CSV-file with columns CID, SMILES, Fingerprint2D, and MolecularFormula."
   ]
  },
  {
   "cell_type": "markdown",
   "metadata": {},
   "source": [
    "# 2. Basics, format convertation, 2 points "
   ]
  },
  {
   "cell_type": "markdown",
   "metadata": {},
   "source": [
    "Make SDF-file from the output file from the previous assignment."
   ]
  },
  {
   "cell_type": "markdown",
   "metadata": {},
   "source": [
    "# 3. Basics, familiarize with RDKit library, 10"
   ]
  },
  {
   "cell_type": "markdown",
   "metadata": {},
   "source": [
    "The following assignments must be done in a jupyter notebook\n",
    "- Depict your molecules\n",
    "- Calculate similarity of molecules using MACCS Keys, Morgan Fingerprints, and RDKit fingerprint. Plot distribution of similarity values.\n"
   ]
  },
  {
   "cell_type": "markdown",
   "metadata": {},
   "source": [
    "# 4. Advanced, code Morgan alghorithm, 20"
   ]
  },
  {
   "cell_type": "markdown",
   "metadata": {},
   "source": [
    "- It must be py-script written according to  PEP-8 with comments. So, it takes as an input argument a file name and returns a CSV file with a table that contains atomic labels and their numbers. Moreover, it should contain module that visualize a molecule with numbering."
   ]
  }
 ],
 "metadata": {
  "kernelspec": {
   "display_name": "Python 3",
   "language": "python",
   "name": "python3"
  },
  "language_info": {
   "codemirror_mode": {
    "name": "ipython",
    "version": 3
   },
   "file_extension": ".py",
   "mimetype": "text/x-python",
   "name": "python",
   "nbconvert_exporter": "python",
   "pygments_lexer": "ipython3",
   "version": "3.8.5"
  }
 },
 "nbformat": 4,
 "nbformat_minor": 4
}
